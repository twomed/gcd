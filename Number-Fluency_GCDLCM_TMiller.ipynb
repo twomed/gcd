{
 "cells": [
  {
   "cell_type": "markdown",
   "metadata": {},
   "source": [
    "<div style=\"background-color: #BCDBF5 ; padding: 10px\">\n",
    "    \n",
    "# GCD and LCM\n",
    "\n",
    "In this activity we will be going over two special numbers that any pair of numbers will have. While they may seem abstract they both provide shortcuts when dealing with multiplication and division. \n",
    "    \n",
    "1. The Greatest Common Divisor(gcd)\n",
    "    \n",
    "    This is the largest factor of both numbers. \n",
    "    \n",
    "2. The Least Common Multiple(lcm)\n",
    "    \n",
    "    This is the smallest number that both of our divide evenly. \n",
    "\n",
    "Example: \n",
    " \n",
    "If we are given the two numbers 12 and 15 the gcd(12,15) = 3 and the lcm(12, 15) = 60.\n",
    "    \n",
    "There are a couple of ways of finding these numbers and we will go over two in this lesson. "
   ]
  },
  {
   "cell_type": "markdown",
   "metadata": {},
   "source": [
    "<div style=\"background-color: #BCDBF5 ; padding: 10px\">\n",
    "\n",
    "## First Method\n",
    "\n",
    "1. I want you to write a for loop that goes through all of the possible numbers that could divide *a*. \n",
    "2. When doing so use the modulo operator, *%*, to see if that number divides *a* evenly. \n",
    "3. If it does go ahead and place it in the list *divides_a* with that *.append()* method. \n",
    "4. Once you have completed your loop go ahead and test it with the print statement. Does the list contain all of the divisors of 24?\n",
    "5. Copy and modify your loop to add all of *b's* divisors to *divides_b*\n",
    "6. For our third and final loop with will be looping through either *divides_a* or *divides_b* and check if that value is in the other. If it is add it to the *common* list. \n",
    "7. Use what you know about list indexing to find the largest value in your common list and print it."
   ]
  },
  {
   "cell_type": "code",
   "execution_count": null,
   "metadata": {},
   "outputs": [],
   "source": [
    "a = 24\n",
    "b = 70\n",
    "\n",
    "divides_a = []\n",
    "divides_b = []\n",
    "common = []\n",
    "\n",
    "\n",
    "#First loop to populate divides_a\n",
    "\n",
    "\n",
    "\n",
    "#Second loop to populate divides_b\n",
    "\n",
    "\n",
    "\n",
    "#Third loop to find common values"
   ]
  },
  {
   "cell_type": "markdown",
   "metadata": {},
   "source": [
    "<div style=\"background-color: #BCDBF5 ; padding: 10px\">\n",
    "\n",
    "### Extension activities\n",
    "\n",
    "1. Can you turn your collection of loops into a function that takes parameters a and b. \n",
    "2. Sometimes when we have two loops that do very similar things we can combine them into one loop. See if you can modify your function to only have one loop. \n",
    "3. There are some elements that you are looping through that you know will never divide a or b can you lessen the number of iterations of your loop to quicken up your program?"
   ]
  },
  {
   "cell_type": "markdown",
   "metadata": {},
   "source": [
    "<div style=\"background-color: #BCDBF5 ; padding: 10px\">\n",
    "\n",
    "## Homework: Least Common Multiple\n",
    "\n",
    "I would like you write a function that takes two parameters and returns the LCM of the two numbers. Have Fun.  "
   ]
  },
  {
   "cell_type": "code",
   "execution_count": null,
   "metadata": {},
   "outputs": [],
   "source": []
  }
 ],
 "metadata": {
  "kernelspec": {
   "display_name": "Python 3",
   "language": "python",
   "name": "python3"
  },
  "language_info": {
   "codemirror_mode": {
    "name": "ipython",
    "version": 3
   },
   "file_extension": ".py",
   "mimetype": "text/x-python",
   "name": "python",
   "nbconvert_exporter": "python",
   "pygments_lexer": "ipython3",
   "version": "3.8.2"
  }
 },
 "nbformat": 4,
 "nbformat_minor": 4
}
